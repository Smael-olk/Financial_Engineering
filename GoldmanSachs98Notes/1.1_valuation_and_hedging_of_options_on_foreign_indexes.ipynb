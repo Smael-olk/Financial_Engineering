{
 "cells": [
  {
   "cell_type": "markdown",
   "id": "79996fe1",
   "metadata": {},
   "source": [
    "# Valuing and Hedging options on Foreign Indexes\n"
   ]
  },
  {
   "cell_type": "markdown",
   "id": "ce566786",
   "metadata": {},
   "source": [
    "We Assume the role of a US investor that wants to gain exposure to the japanese foreign equity market, and values his P&L in $.\n",
    "There are three different types of derivative instruments, each having a different exposure to the foreign stock or index level and the foreign currency (the yen) :\n",
    "- Foreign market derivatives : Investor buys **Yen** Denominated Derivatives and pays for them today by converting his dollars to Yen at the current exchange rate.\n",
    "- ADR-Style/Composite Derivatives : Investor buys **Dollar** Denominated Derivative contract of japanese equity stock listed on US exchange using \"American Depositary Receipt\".\n",
    "- GER-Style/Quanto Derivatives : Investor gains exposure to the Japanese stock returns converted at a Guaranteed Exchange rate agreed upon on contract inception. "
   ]
  },
  {
   "cell_type": "markdown",
   "id": "83039670",
   "metadata": {},
   "source": [
    "## Valuation of Forward Contracts \n",
    "1. **Foreign-Market Forwards**\n",
    "\n",
    "The Standard Forward Contract f(S,K) on the yen denominated stock worth S today. So on delivery date, th investor receives $S_T$ and pays $K$ in Yen. The Forward Value $F_S$ in yen is the delivery price that makes the contract worth zero today. The payoff is $S_T-K$.\n",
    "You can Replicate the payoff $S_T$ by investing today in $e^{-(b+q)(T-t)}$  shares of the stock and selling a Japanese zero coupon bound of face K maturing at T. so $F_S=Se^{(r_Y-b-q)(T-t)}$.\n",
    "\n",
    "The Forward price in Yen is $f(S,K)= e^{-(b+q)(T-t)}S - e^{-r_Y(T-t)}K$ .\n",
    "\n",
    "The Forward price in Dollars is $f(S,K)_{\\$} = Xe^{-r_Y(T-t)}(e^{(I_Y-q)(T-t)}S - K) $\n",
    "\n",
    "2. **ADR Forwards**\n",
    "\n",
    "This is a forward contract on the ADR value of the Japanese stock in dollars with payoff given by $X_TS_T -K_{\\$}$.\n",
    "\n",
    "- If ADR Tradable securities exist, the forward can b replicated the same way by  $X_TS_T$ by investing today in $e^{-(b+q)(T-t)}$  shares of the stock $XS$ and selling a US zero coupon bound of face K maturing at T. so $F_{ADR}=XSe^{(I_{\\$}-q)(T-t)}$.\n",
    "\n",
    "    - The Forward value in Dollars is $f(S,K_{\\$}) = XSe^{-(b+q)(T-t)} - K_{\\$}e^{-r_{\\$}(T-t)} $\n",
    "- if they don't exist we have to replicate by a **long position** in one forward on japanese index in yen , a **long position** in forward for $F_S$ Yens, a **Long Position** in US ZCB with Face value $F_SF_X$ and a short position in US ZCB with face value $K_{\\$}$. Payoff of this portfolio at T is $X_TS_T - K_{\\$}$ \n",
    "    - The forward contract value is $f(S,K) = F_SF_Xe^{-r_{\\$}(T-t)} - K_{\\$}e^{-r_{\\$}(T-t)}  $\n",
    "    - A little manipulation shows the same formula : $f(S,K) = XSe^{-(b+q)(T-t)} - K_{\\$}e^{-r_{\\$}(T-t)} $\n",
    "\n",
    "3. **GER Forwards**\n",
    "The guaranteed exchange rate forward contract has a payoff at expiration given by : $X_0(S_T-K)$\n",
    "We can replicat this by investing in a synthetic portfolio fund composed of $X_0S$ dollars , borrowing $\\frac{X_0}{X}S $ yen and using it to buy $\\frac{X_0}{X}$ shares of the Nikkei.\n",
    "\n",
    "The fair value of the forward contract today is\n",
    "$$ f(S, K)=X_0 S e^{-\\left(b+q_{\\text {syn }}\\right)(T-t)}-X_0 K e^{-r_{\\mathrm{s}}(T-t)} \\text { dollars }$$\n",
    "\n",
    "It is shown in the appendix that the dividend yield of synthetic security is\n",
    "$$q_{\\mathrm{syn}}=q+r_S-r_Y+\\sigma_{X S}$$\n",
    "which implies $$ f(S, K)=X_0 e^{-r_{\\mathrm{S}}(T-t)}\\left[S e^{\\left(l_Y-q-\\sigma_{X S}\\right)(T-t)}-K\\right]$$\n",
    "\n",
    "\n"
   ]
  },
  {
   "cell_type": "markdown",
   "id": "5f35a53f",
   "metadata": {},
   "source": [
    "## Valuation of European Options on Foreign Indexes\n",
    "\n",
    "1. **Foreign-Market Options**\n",
    "These are standard options which are traded on Japanese exchanges and which can be hedged by shorting the foreign index. Therefore, they can be valued by a risk-neutral method. The payoff is $C(T) = max(0,X_T(S_T-K))$.\n",
    "Using Black 76' Like formula we get : \n",
    "$$C =  Xe^{-r_Y(T-t)}(F_SN(d_1)-KN(d_2)) = XC_Y$$\n",
    "$$d_1 = \\frac{log(\\frac{S}{K})+(I_Y-q+\\frac{\\sigma _S^2}{2})(T-t)}{\\sigma _S\\sqrt{T-t}}$$\n",
    "$$d_2 = d_1 - \\sigma _S\\sqrt{T-t} $$\n",
    "\n",
    "So the price depends on the Japanese discount and stock loan rate, the index volatility and the dividen yield which is what normally goes for options,\n",
    "the price is proportional to the current exchange rate and the correlation between S and X.\n",
    "-  We can hedge by shorting $n_S = \\Delta _Y$ shares of Nikkei index where $\\Delta _Y = e^{-(q+b)(T-t)}N(d_1)$\n",
    "- the dollar value of a hedged position is $XC_Y - X(\\Delta_Y S) = X (C_Y-\\Delta_YS)$ which depends on the Exchange Rate.\n",
    "- the Exchange rate risk can be hedged by shorting $n_X = C_Y - \\Delta_Y S$\n",
    "\n",
    "$$ \\text{The whole portfolio  is insensitive to small changes in X or S : } \\Pi = C - n_S\\{XS\\} - n_X\\{X\\} $$\n",
    "\n",
    "\n",
    "2. **ADR Style Options**\n",
    "\n",
    "These are standard options which are traded on Japanese exchanges and which can be hedged by shorting the foreign index. Therefore, they can be valued by a risk-neutral method. The payoff is $C(T) = max(0,X_T(S_T-K))$.\n",
    "Using Black 76' Like formula we get : \n",
    "$$C_{ADR} =  e^{-r_{USD}(T-t)}(F_{ADR}N(d_1)-K_{USD}N(d_2)) $$\n",
    "$$d_1 = \\frac{log(\\frac{XS}{K_{USD}})+(I_{USD}-q+\\frac{\\sigma^2}{2})(T-t)}{\\sigma _S\\sqrt{T-t}}$$\n",
    "$$d_2 = d_1 - \\sigma \\sqrt{T-t} $$\n",
    "\n",
    "So the price is independent of the Japanese discount and stock loan rate, The effects of index price, current exchange rate, the U.S. discount and stock loan rates and time to maturity are as expected.\n",
    "\n",
    "The Option price increases with overall increasing volatility, but the effects of individual volatilies is no longer apparent, if S and X are positively correlated, then it's the  conventional option mechanics. When they are sufficiently negatively correlated, it is possible that increasing individual vols cause an overall decrease in price. Specifically when $\\rho_{XS}\\sigma_{X} >\\sigma_{S}$ \n",
    "\n",
    "\n",
    "-  We can hedge by shorting $n_S = \\Delta _Y$ shares of Nikkei index where $\\Delta _Y = e^{-(q+b)(T-t)}N(d_1)$\n",
    "- the dollar value of a hedged position is $XC_Y - X(\\Delta_Y S) = X (C_Y-\\Delta_YS)$ which depends on the Exchange Rate.\n",
    "- the Exchange rate risk can be hedged by shorting $n_X = C_Y - \\Delta_Y S$\n",
    "\n",
    "$$ \\text{The whole portfolio  is insensitive to small changes in X or S : } \\Pi = C - n_S\\{XS\\} - n_X\\{X\\} $$\n",
    "\n",
    "\n",
    "\n",
    "\n",
    "\n",
    "\n",
    "\n"
   ]
  }
 ],
 "metadata": {
  "language_info": {
   "name": "python"
  }
 },
 "nbformat": 4,
 "nbformat_minor": 5
}
